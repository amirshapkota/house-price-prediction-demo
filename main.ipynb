{
 "cells": [
  {
   "cell_type": "code",
   "execution_count": 3,
   "metadata": {},
   "outputs": [],
   "source": [
    "import numpy as np\n",
    "import pandas as pd\n",
    "from sklearn.model_selection import train_test_split\n",
    "from sklearn.linear_model import LinearRegression\n",
    "from sklearn.metrics import mean_squared_error\n",
    "from sklearn.preprocessing import StandardScaler\n",
    "import matplotlib.pyplot as plt"
   ]
  },
  {
   "cell_type": "code",
   "execution_count": 4,
   "metadata": {},
   "outputs": [],
   "source": [
    "def generate_house_price_data():\n",
    "    \"\"\"Generate house price data for prediction.\"\"\"\n",
    "    np.random.seed(42)\n",
    "    square_footage = np.random.randint(500, 5000, 100)  # Square footage (500 to 5000)\n",
    "    num_bedrooms = np.random.randint(1, 6, 100)  # Number of bedrooms (1 to 5)\n",
    "    num_bathrooms = np.random.randint(1, 4, 100)  # Number of bathrooms (1 to 3)\n",
    "    location_factor = np.random.choice([1, 1.5, 2], 100)  # Location factor (1 = rural, 2 = city center, etc.)\n",
    "\n",
    "    price = (square_footage * 100) + (num_bedrooms * 5000) + (num_bathrooms * 3000) + (location_factor * 10000) + np.random.randint(10000, 50000, 100)\n",
    "\n",
    "    data = pd.DataFrame({\n",
    "        'Square Footage': square_footage,\n",
    "        'Bedrooms': num_bedrooms,\n",
    "        'Bathrooms': num_bathrooms,\n",
    "        'Location Factor': location_factor,\n",
    "        'Price': price\n",
    "    })\n",
    "    return data"
   ]
  },
  {
   "cell_type": "code",
   "execution_count": 5,
   "metadata": {},
   "outputs": [],
   "source": [
    "# trainingg a linear Regression Model\n",
    "def train_model(X_train, y_train):\n",
    "    model = LinearRegression()\n",
    "    model.fit(X_train, y_train)\n",
    "    return model\n",
    "\n",
    "def evaluate_model(model, X_test, y_test):\n",
    "    y_pred = model.predict(X_test)\n",
    "    mse = mean_squared_error(y_test, y_pred)\n",
    "    print(f\"Mean Squared Error: {mse}\")\n",
    "    return y_pred"
   ]
  },
  {
   "cell_type": "code",
   "execution_count": 6,
   "metadata": {},
   "outputs": [],
   "source": [
    "def plot_results(y_test, y_pred):\n",
    "    \n",
    "    #plot actual vs predicted prices.\n",
    "    plt.scatter(y_test, y_pred)\n",
    "    plt.xlabel('True Prices')\n",
    "    plt.ylabel('Predicted Prices')\n",
    "    plt.title('True vs Predicted House Prices')\n",
    "    plt.show()"
   ]
  },
  {
   "cell_type": "code",
   "execution_count": 7,
   "metadata": {},
   "outputs": [],
   "source": [
    "def main():\n",
    "    # generate data\n",
    "    data = generate_house_price_data()\n",
    "\n",
    "    X = data[['Square Footage', 'Bedrooms', 'Bathrooms', 'Location Factor']]  # Features\n",
    "    y = data['Price']  # Target (Price)\n",
    "\n",
    "    # split data into training and testing sets\n",
    "    X_train, X_test, y_train, y_test = train_test_split(X, y, test_size=0.2, random_state=42)\n",
    "\n",
    "    # standardize the features\n",
    "    scaler = StandardScaler()\n",
    "    X_train = scaler.fit_transform(X_train)\n",
    "    X_test = scaler.transform(X_test)\n",
    "\n",
    "    # train the model\n",
    "    model = train_model(X_train, y_train)\n",
    "\n",
    "    # evaluate the model\n",
    "    y_pred = evaluate_model(model, X_test, y_test)\n",
    "\n",
    "    # plot the results\n",
    "    plot_results(y_test, y_pred)\n",
    "\n",
    "    # Predict price for a new house\n",
    "    new_house = pd.DataFrame([[2400, 3, 2, 2]], columns=['Square Footage', 'Bedrooms', 'Bathrooms', 'Location Factor'])  \n",
    "    new_house_scaled = scaler.transform(new_house)  # Scale the new data point\n",
    "    predicted_price = model.predict(new_house_scaled)\n",
    "    print(f\"Predicted price for the new house: ${predicted_price[0]:,.2f}\")\n"
   ]
  },
  {
   "cell_type": "code",
   "execution_count": 8,
   "metadata": {},
   "outputs": [
    {
     "name": "stdout",
     "output_type": "stream",
     "text": [
      "Mean Squared Error: 135253958.57241926\n"
     ]
    },
    {
     "data": {
      "image/png": "[encoded data removed]",
      "text/plain": [
       "<Figure size 640x480 with 1 Axes>"
      ]
     },
     "metadata": {},
     "output_type": "display_data"
    },
    {
     "name": "stdout",
     "output_type": "stream",
     "text": [
      "Predicted price for the new house: $310,213.09\n"
     ]
    }
   ],
   "source": [
    "main()"
   ]
  }
 ],
 "metadata": {
  "kernelspec": {
   "display_name": "Python 3",
   "language": "python",
   "name": "python3"
  },
  "language_info": {
   "codemirror_mode": {
    "name": "ipython",
    "version": 3
   },
   "file_extension": ".py",
   "mimetype": "text/x-python",
   "name": "python",
   "nbconvert_exporter": "python",
   "pygments_lexer": "ipython3",
   "version": "3.10.12"
  }
 },
 "nbformat": 4,
 "nbformat_minor": 2
}
